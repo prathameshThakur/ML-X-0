{
 "cells": [
  {
   "cell_type": "markdown",
   "source": [
    "# Tic-Tac-Toe Endgame\r\n",
    "### Binary classification task on possible configurations of tic-tac-toe game\r\n",
    "<br>\r\n",
    "\r\n",
    "## Data Set Information:\r\n",
    "This database encodes the complete set of possible board configurations at the end of tic-tac-toe games, where \"x\" is assumed to have played first. The target concept is \"win for x\" (i.e., true when \"x\" has one of 8 possible ways to create a \"three-in-a-row\").\r\n",
    "\r\n",
    "## Attribute Information:\r\n",
    "1. top-left-square: {x,o,b}\r\n",
    "2. top-middle-square: {x,o,b}\r\n",
    "3. top-right-square: {x,o,b}\r\n",
    "4. middle-left-square: {x,o,b}\r\n",
    "5. middle-middle-square: {x,o,b}\r\n",
    "6. middle-right-square: {x,o,b}\r\n",
    "7. bottom-left-square: {x,o,b}\r\n",
    "8. bottom-middle-square: {x,o,b}\r\n",
    "9. bottom-right-square: {x,o,b}\r\n",
    "10. Class: {positive,negative}"
   ],
   "metadata": {}
  },
  {
   "cell_type": "code",
   "execution_count": 1,
   "source": [
    "# Import Libraries\r\n",
    "import numpy as np\r\n",
    "import pandas as pd\r\n",
    "import matplotlib.pyplot as plt\r\n",
    "import seaborn as sns\r\n",
    "from sklearn.model_selection import train_test_split\r\n",
    "# Ignore warnings\r\n",
    "import warnings\r\n",
    "warnings.filterwarnings('ignore')"
   ],
   "outputs": [],
   "metadata": {}
  },
  {
   "cell_type": "code",
   "execution_count": 2,
   "source": [
    "# Read the dataset\r\n",
    "df = pd.read_csv('Dataset/tic-tac-toe-endgame.csv')\r\n",
    "df.head()"
   ],
   "outputs": [
    {
     "output_type": "execute_result",
     "data": {
      "text/html": [
       "<div>\n",
       "<style scoped>\n",
       "    .dataframe tbody tr th:only-of-type {\n",
       "        vertical-align: middle;\n",
       "    }\n",
       "\n",
       "    .dataframe tbody tr th {\n",
       "        vertical-align: top;\n",
       "    }\n",
       "\n",
       "    .dataframe thead th {\n",
       "        text-align: right;\n",
       "    }\n",
       "</style>\n",
       "<table border=\"1\" class=\"dataframe\">\n",
       "  <thead>\n",
       "    <tr style=\"text-align: right;\">\n",
       "      <th></th>\n",
       "      <th>V1</th>\n",
       "      <th>V2</th>\n",
       "      <th>V3</th>\n",
       "      <th>V4</th>\n",
       "      <th>V5</th>\n",
       "      <th>V6</th>\n",
       "      <th>V7</th>\n",
       "      <th>V8</th>\n",
       "      <th>V9</th>\n",
       "      <th>V10</th>\n",
       "    </tr>\n",
       "  </thead>\n",
       "  <tbody>\n",
       "    <tr>\n",
       "      <th>0</th>\n",
       "      <td>x</td>\n",
       "      <td>x</td>\n",
       "      <td>x</td>\n",
       "      <td>x</td>\n",
       "      <td>o</td>\n",
       "      <td>o</td>\n",
       "      <td>x</td>\n",
       "      <td>o</td>\n",
       "      <td>o</td>\n",
       "      <td>positive</td>\n",
       "    </tr>\n",
       "    <tr>\n",
       "      <th>1</th>\n",
       "      <td>x</td>\n",
       "      <td>x</td>\n",
       "      <td>x</td>\n",
       "      <td>x</td>\n",
       "      <td>o</td>\n",
       "      <td>o</td>\n",
       "      <td>o</td>\n",
       "      <td>x</td>\n",
       "      <td>o</td>\n",
       "      <td>positive</td>\n",
       "    </tr>\n",
       "    <tr>\n",
       "      <th>2</th>\n",
       "      <td>x</td>\n",
       "      <td>x</td>\n",
       "      <td>x</td>\n",
       "      <td>x</td>\n",
       "      <td>o</td>\n",
       "      <td>o</td>\n",
       "      <td>o</td>\n",
       "      <td>o</td>\n",
       "      <td>x</td>\n",
       "      <td>positive</td>\n",
       "    </tr>\n",
       "    <tr>\n",
       "      <th>3</th>\n",
       "      <td>x</td>\n",
       "      <td>x</td>\n",
       "      <td>x</td>\n",
       "      <td>x</td>\n",
       "      <td>o</td>\n",
       "      <td>o</td>\n",
       "      <td>o</td>\n",
       "      <td>b</td>\n",
       "      <td>b</td>\n",
       "      <td>positive</td>\n",
       "    </tr>\n",
       "    <tr>\n",
       "      <th>4</th>\n",
       "      <td>x</td>\n",
       "      <td>x</td>\n",
       "      <td>x</td>\n",
       "      <td>x</td>\n",
       "      <td>o</td>\n",
       "      <td>o</td>\n",
       "      <td>b</td>\n",
       "      <td>o</td>\n",
       "      <td>b</td>\n",
       "      <td>positive</td>\n",
       "    </tr>\n",
       "  </tbody>\n",
       "</table>\n",
       "</div>"
      ],
      "text/plain": [
       "  V1 V2 V3 V4 V5 V6 V7 V8 V9       V10\n",
       "0  x  x  x  x  o  o  x  o  o  positive\n",
       "1  x  x  x  x  o  o  o  x  o  positive\n",
       "2  x  x  x  x  o  o  o  o  x  positive\n",
       "3  x  x  x  x  o  o  o  b  b  positive\n",
       "4  x  x  x  x  o  o  b  o  b  positive"
      ]
     },
     "metadata": {},
     "execution_count": 2
    }
   ],
   "metadata": {}
  },
  {
   "cell_type": "markdown",
   "source": [
    "# Exploratory Data Analysis"
   ],
   "metadata": {}
  },
  {
   "cell_type": "code",
   "execution_count": 3,
   "source": [
    "# Check info\r\n",
    "df.info()"
   ],
   "outputs": [
    {
     "output_type": "stream",
     "name": "stdout",
     "text": [
      "<class 'pandas.core.frame.DataFrame'>\n",
      "RangeIndex: 958 entries, 0 to 957\n",
      "Data columns (total 10 columns):\n",
      " #   Column  Non-Null Count  Dtype \n",
      "---  ------  --------------  ----- \n",
      " 0   V1      958 non-null    object\n",
      " 1   V2      958 non-null    object\n",
      " 2   V3      958 non-null    object\n",
      " 3   V4      958 non-null    object\n",
      " 4   V5      958 non-null    object\n",
      " 5   V6      958 non-null    object\n",
      " 6   V7      958 non-null    object\n",
      " 7   V8      958 non-null    object\n",
      " 8   V9      958 non-null    object\n",
      " 9   V10     958 non-null    object\n",
      "dtypes: object(10)\n",
      "memory usage: 75.0+ KB\n"
     ]
    }
   ],
   "metadata": {}
  },
  {
   "cell_type": "markdown",
   "source": [
    "958 records are present in the dataset"
   ],
   "metadata": {}
  },
  {
   "cell_type": "code",
   "execution_count": 4,
   "source": [
    "# Check for missing values\r\n",
    "df.isnull().sum()"
   ],
   "outputs": [
    {
     "output_type": "execute_result",
     "data": {
      "text/plain": [
       "V1     0\n",
       "V2     0\n",
       "V3     0\n",
       "V4     0\n",
       "V5     0\n",
       "V6     0\n",
       "V7     0\n",
       "V8     0\n",
       "V9     0\n",
       "V10    0\n",
       "dtype: int64"
      ]
     },
     "metadata": {},
     "execution_count": 4
    }
   ],
   "metadata": {}
  },
  {
   "cell_type": "markdown",
   "source": [
    "There are no null values"
   ],
   "metadata": {}
  },
  {
   "cell_type": "code",
   "execution_count": 5,
   "source": [
    "# Check for duplicate values\r\n",
    "df.duplicated().sum()"
   ],
   "outputs": [
    {
     "output_type": "execute_result",
     "data": {
      "text/plain": [
       "0"
      ]
     },
     "metadata": {},
     "execution_count": 5
    }
   ],
   "metadata": {}
  },
  {
   "cell_type": "markdown",
   "source": [
    "No duplicate records are present"
   ],
   "metadata": {}
  },
  {
   "cell_type": "code",
   "execution_count": 6,
   "source": [
    "# Count the number of unique values in each column\r\n",
    "df.nunique()"
   ],
   "outputs": [
    {
     "output_type": "execute_result",
     "data": {
      "text/plain": [
       "V1     3\n",
       "V2     3\n",
       "V3     3\n",
       "V4     3\n",
       "V5     3\n",
       "V6     3\n",
       "V7     3\n",
       "V8     3\n",
       "V9     3\n",
       "V10    2\n",
       "dtype: int64"
      ]
     },
     "metadata": {},
     "execution_count": 6
    }
   ],
   "metadata": {}
  },
  {
   "cell_type": "markdown",
   "source": [
    "Each attribute has 3 unique vales expect the last i.e. the target column that has 2 unique values: win (positive) or loose (negative)."
   ],
   "metadata": {}
  },
  {
   "cell_type": "code",
   "execution_count": 7,
   "source": [
    "# Count plot for V10 (Winner)\r\n",
    "sns.countplot(x='V10', data=df)"
   ],
   "outputs": [
    {
     "output_type": "execute_result",
     "data": {
      "text/plain": [
       "<AxesSubplot:xlabel='V10', ylabel='count'>"
      ]
     },
     "metadata": {},
     "execution_count": 7
    },
    {
     "output_type": "display_data",
     "data": {
      "image/png": "[encoded data removed]",
      "text/plain": [
       "<Figure size 432x288 with 1 Axes>"
      ]
     },
     "metadata": {
      "needs_background": "light"
     }
    }
   ],
   "metadata": {}
  },
  {
   "cell_type": "markdown",
   "source": [
    "Player has won ~2x number of games than he lost."
   ],
   "metadata": {}
  },
  {
   "cell_type": "markdown",
   "source": [
    "# Preprocess the dataset before training"
   ],
   "metadata": {}
  },
  {
   "cell_type": "code",
   "execution_count": 8,
   "source": [
    "# Convert categorical variables to numeric\r\n",
    "df['V10'] = df['V10'].astype('category').cat.codes\r\n",
    "\r\n",
    "# Factorise categorical variables\r\n",
    "df['V1'] = df['V1'].astype('category').cat.codes\r\n",
    "df['V2'] = df['V2'].astype('category').cat.codes\r\n",
    "df['V3'] = df['V3'].astype('category').cat.codes\r\n",
    "df['V4'] = df['V4'].astype('category').cat.codes\r\n",
    "df['V5'] = df['V5'].astype('category').cat.codes\r\n",
    "df['V6'] = df['V6'].astype('category').cat.codes\r\n",
    "df['V7'] = df['V7'].astype('category').cat.codes\r\n",
    "df['V8'] = df['V8'].astype('category').cat.codes\r\n",
    "df['V9'] = df['V9'].astype('category').cat.codes"
   ],
   "outputs": [],
   "metadata": {}
  },
  {
   "cell_type": "code",
   "execution_count": 9,
   "source": [
    "df.head()"
   ],
   "outputs": [
    {
     "output_type": "execute_result",
     "data": {
      "text/html": [
       "<div>\n",
       "<style scoped>\n",
       "    .dataframe tbody tr th:only-of-type {\n",
       "        vertical-align: middle;\n",
       "    }\n",
       "\n",
       "    .dataframe tbody tr th {\n",
       "        vertical-align: top;\n",
       "    }\n",
       "\n",
       "    .dataframe thead th {\n",
       "        text-align: right;\n",
       "    }\n",
       "</style>\n",
       "<table border=\"1\" class=\"dataframe\">\n",
       "  <thead>\n",
       "    <tr style=\"text-align: right;\">\n",
       "      <th></th>\n",
       "      <th>V1</th>\n",
       "      <th>V2</th>\n",
       "      <th>V3</th>\n",
       "      <th>V4</th>\n",
       "      <th>V5</th>\n",
       "      <th>V6</th>\n",
       "      <th>V7</th>\n",
       "      <th>V8</th>\n",
       "      <th>V9</th>\n",
       "      <th>V10</th>\n",
       "    </tr>\n",
       "  </thead>\n",
       "  <tbody>\n",
       "    <tr>\n",
       "      <th>0</th>\n",
       "      <td>2</td>\n",
       "      <td>2</td>\n",
       "      <td>2</td>\n",
       "      <td>2</td>\n",
       "      <td>1</td>\n",
       "      <td>1</td>\n",
       "      <td>2</td>\n",
       "      <td>1</td>\n",
       "      <td>1</td>\n",
       "      <td>1</td>\n",
       "    </tr>\n",
       "    <tr>\n",
       "      <th>1</th>\n",
       "      <td>2</td>\n",
       "      <td>2</td>\n",
       "      <td>2</td>\n",
       "      <td>2</td>\n",
       "      <td>1</td>\n",
       "      <td>1</td>\n",
       "      <td>1</td>\n",
       "      <td>2</td>\n",
       "      <td>1</td>\n",
       "      <td>1</td>\n",
       "    </tr>\n",
       "    <tr>\n",
       "      <th>2</th>\n",
       "      <td>2</td>\n",
       "      <td>2</td>\n",
       "      <td>2</td>\n",
       "      <td>2</td>\n",
       "      <td>1</td>\n",
       "      <td>1</td>\n",
       "      <td>1</td>\n",
       "      <td>1</td>\n",
       "      <td>2</td>\n",
       "      <td>1</td>\n",
       "    </tr>\n",
       "    <tr>\n",
       "      <th>3</th>\n",
       "      <td>2</td>\n",
       "      <td>2</td>\n",
       "      <td>2</td>\n",
       "      <td>2</td>\n",
       "      <td>1</td>\n",
       "      <td>1</td>\n",
       "      <td>1</td>\n",
       "      <td>0</td>\n",
       "      <td>0</td>\n",
       "      <td>1</td>\n",
       "    </tr>\n",
       "    <tr>\n",
       "      <th>4</th>\n",
       "      <td>2</td>\n",
       "      <td>2</td>\n",
       "      <td>2</td>\n",
       "      <td>2</td>\n",
       "      <td>1</td>\n",
       "      <td>1</td>\n",
       "      <td>0</td>\n",
       "      <td>1</td>\n",
       "      <td>0</td>\n",
       "      <td>1</td>\n",
       "    </tr>\n",
       "  </tbody>\n",
       "</table>\n",
       "</div>"
      ],
      "text/plain": [
       "   V1  V2  V3  V4  V5  V6  V7  V8  V9  V10\n",
       "0   2   2   2   2   1   1   2   1   1    1\n",
       "1   2   2   2   2   1   1   1   2   1    1\n",
       "2   2   2   2   2   1   1   1   1   2    1\n",
       "3   2   2   2   2   1   1   1   0   0    1\n",
       "4   2   2   2   2   1   1   0   1   0    1"
      ]
     },
     "metadata": {},
     "execution_count": 9
    }
   ],
   "metadata": {}
  },
  {
   "cell_type": "markdown",
   "source": [
    "# Train Test Split"
   ],
   "metadata": {}
  },
  {
   "cell_type": "code",
   "execution_count": 10,
   "source": [
    "X = df.iloc[:, :-1].values\r\n",
    "y = df.iloc[:, -1].values\r\n",
    "\r\n",
    "X_train, X_test, y_train, y_test = train_test_split(X, y, test_size=0.2, random_state=0)"
   ],
   "outputs": [],
   "metadata": {}
  },
  {
   "cell_type": "code",
   "execution_count": 11,
   "source": [
    "from sklearn.metrics import accuracy_score\r\n",
    "from sklearn.metrics import confusion_matrix\r\n",
    "from sklearn.metrics import classification_report\r\n",
    "\r\n",
    "def train_model(X_train, y_train, X_test, y_test, model):\r\n",
    "    model.fit(X_train, y_train)\r\n",
    "    y_pred = model.predict(X_test)\r\n",
    "    print('Accuracy:', accuracy_score(y_test, y_pred))\r\n",
    "    print('Confusion Matrix:')\r\n",
    "    print(confusion_matrix(y_test, y_pred))\r\n",
    "    print('Classification Report:')\r\n",
    "    print(classification_report(y_test, y_pred))"
   ],
   "outputs": [],
   "metadata": {}
  },
  {
   "cell_type": "code",
   "execution_count": 12,
   "source": [
    "# Logistic Regression\r\n",
    "from sklearn.linear_model import LogisticRegression\r\n",
    "train_model(X_train, y_train, X_test, y_test, LogisticRegression())"
   ],
   "outputs": [
    {
     "output_type": "stream",
     "name": "stdout",
     "text": [
      "Accuracy: 0.6770833333333334\n",
      "Confusion Matrix:\n",
      "[[ 18  56]\n",
      " [  6 112]]\n",
      "Classification Report:\n",
      "              precision    recall  f1-score   support\n",
      "\n",
      "           0       0.75      0.24      0.37        74\n",
      "           1       0.67      0.95      0.78       118\n",
      "\n",
      "    accuracy                           0.68       192\n",
      "   macro avg       0.71      0.60      0.58       192\n",
      "weighted avg       0.70      0.68      0.62       192\n",
      "\n"
     ]
    }
   ],
   "metadata": {}
  },
  {
   "cell_type": "code",
   "execution_count": 13,
   "source": [
    "# Support Vector Machine\r\n",
    "from sklearn.svm import SVC\r\n",
    "train_model(X_train, y_train, X_test, y_test, SVC())"
   ],
   "outputs": [
    {
     "output_type": "stream",
     "name": "stdout",
     "text": [
      "Accuracy: 0.875\n",
      "Confusion Matrix:\n",
      "[[ 50  24]\n",
      " [  0 118]]\n",
      "Classification Report:\n",
      "              precision    recall  f1-score   support\n",
      "\n",
      "           0       1.00      0.68      0.81        74\n",
      "           1       0.83      1.00      0.91       118\n",
      "\n",
      "    accuracy                           0.88       192\n",
      "   macro avg       0.92      0.84      0.86       192\n",
      "weighted avg       0.90      0.88      0.87       192\n",
      "\n"
     ]
    }
   ],
   "metadata": {}
  },
  {
   "cell_type": "code",
   "execution_count": 14,
   "source": [
    "# Random Forest\r\n",
    "from sklearn.ensemble import RandomForestClassifier\r\n",
    "train_model(X_train, y_train, X_test, y_test, RandomForestClassifier())"
   ],
   "outputs": [
    {
     "output_type": "stream",
     "name": "stdout",
     "text": [
      "Accuracy: 0.9322916666666666\n",
      "Confusion Matrix:\n",
      "[[ 62  12]\n",
      " [  1 117]]\n",
      "Classification Report:\n",
      "              precision    recall  f1-score   support\n",
      "\n",
      "           0       0.98      0.84      0.91        74\n",
      "           1       0.91      0.99      0.95       118\n",
      "\n",
      "    accuracy                           0.93       192\n",
      "   macro avg       0.95      0.91      0.93       192\n",
      "weighted avg       0.94      0.93      0.93       192\n",
      "\n"
     ]
    }
   ],
   "metadata": {}
  },
  {
   "cell_type": "code",
   "execution_count": 15,
   "source": [
    "# Decision Tree\r\n",
    "from sklearn.tree import DecisionTreeClassifier\r\n",
    "train_model(X_train, y_train, X_test, y_test, DecisionTreeClassifier())"
   ],
   "outputs": [
    {
     "output_type": "stream",
     "name": "stdout",
     "text": [
      "Accuracy: 0.9010416666666666\n",
      "Confusion Matrix:\n",
      "[[ 58  16]\n",
      " [  3 115]]\n",
      "Classification Report:\n",
      "              precision    recall  f1-score   support\n",
      "\n",
      "           0       0.95      0.78      0.86        74\n",
      "           1       0.88      0.97      0.92       118\n",
      "\n",
      "    accuracy                           0.90       192\n",
      "   macro avg       0.91      0.88      0.89       192\n",
      "weighted avg       0.91      0.90      0.90       192\n",
      "\n"
     ]
    }
   ],
   "metadata": {}
  },
  {
   "cell_type": "code",
   "execution_count": 16,
   "source": [
    "# K-Nearest Neighbors\r\n",
    "from sklearn.neighbors import KNeighborsClassifier\r\n",
    "train_model(X_train, y_train, X_test, y_test, KNeighborsClassifier())"
   ],
   "outputs": [
    {
     "output_type": "stream",
     "name": "stdout",
     "text": [
      "Accuracy: 0.84375\n",
      "Confusion Matrix:\n",
      "[[ 51  23]\n",
      " [  7 111]]\n",
      "Classification Report:\n",
      "              precision    recall  f1-score   support\n",
      "\n",
      "           0       0.88      0.69      0.77        74\n",
      "           1       0.83      0.94      0.88       118\n",
      "\n",
      "    accuracy                           0.84       192\n",
      "   macro avg       0.85      0.81      0.83       192\n",
      "weighted avg       0.85      0.84      0.84       192\n",
      "\n"
     ]
    }
   ],
   "metadata": {}
  },
  {
   "cell_type": "code",
   "execution_count": 17,
   "source": [
    "# Naive Bayes\r\n",
    "from sklearn.naive_bayes import GaussianNB\r\n",
    "train_model(X_train, y_train, X_test, y_test, GaussianNB())"
   ],
   "outputs": [
    {
     "output_type": "stream",
     "name": "stdout",
     "text": [
      "Accuracy: 0.6927083333333334\n",
      "Confusion Matrix:\n",
      "[[ 17  57]\n",
      " [  2 116]]\n",
      "Classification Report:\n",
      "              precision    recall  f1-score   support\n",
      "\n",
      "           0       0.89      0.23      0.37        74\n",
      "           1       0.67      0.98      0.80       118\n",
      "\n",
      "    accuracy                           0.69       192\n",
      "   macro avg       0.78      0.61      0.58       192\n",
      "weighted avg       0.76      0.69      0.63       192\n",
      "\n"
     ]
    }
   ],
   "metadata": {}
  },
  {
   "cell_type": "code",
   "execution_count": 18,
   "source": [
    "# AdaBoost\r\n",
    "from sklearn.ensemble import AdaBoostClassifier\r\n",
    "train_model(X_train, y_train, X_test, y_test, AdaBoostClassifier())"
   ],
   "outputs": [
    {
     "output_type": "stream",
     "name": "stdout",
     "text": [
      "Accuracy: 0.7552083333333334\n",
      "Confusion Matrix:\n",
      "[[ 35  39]\n",
      " [  8 110]]\n",
      "Classification Report:\n",
      "              precision    recall  f1-score   support\n",
      "\n",
      "           0       0.81      0.47      0.60        74\n",
      "           1       0.74      0.93      0.82       118\n",
      "\n",
      "    accuracy                           0.76       192\n",
      "   macro avg       0.78      0.70      0.71       192\n",
      "weighted avg       0.77      0.76      0.74       192\n",
      "\n"
     ]
    }
   ],
   "metadata": {}
  },
  {
   "cell_type": "code",
   "execution_count": 19,
   "source": [
    "# Gradient Boosting\r\n",
    "from sklearn.ensemble import GradientBoostingClassifier\r\n",
    "train_model(X_train, y_train, X_test, y_test, GradientBoostingClassifier())"
   ],
   "outputs": [
    {
     "output_type": "stream",
     "name": "stdout",
     "text": [
      "Accuracy: 0.9270833333333334\n",
      "Confusion Matrix:\n",
      "[[ 62  12]\n",
      " [  2 116]]\n",
      "Classification Report:\n",
      "              precision    recall  f1-score   support\n",
      "\n",
      "           0       0.97      0.84      0.90        74\n",
      "           1       0.91      0.98      0.94       118\n",
      "\n",
      "    accuracy                           0.93       192\n",
      "   macro avg       0.94      0.91      0.92       192\n",
      "weighted avg       0.93      0.93      0.93       192\n",
      "\n"
     ]
    }
   ],
   "metadata": {}
  },
  {
   "cell_type": "code",
   "execution_count": 20,
   "source": [
    "# XGBoost\r\n",
    "import xgboost as xgb\r\n",
    "train_model(X_train, y_train, X_test, y_test, xgb.XGBClassifier())"
   ],
   "outputs": [
    {
     "output_type": "stream",
     "name": "stdout",
     "text": [
      "[17:04:55] WARNING: C:/Users/Administrator/workspace/xgboost-win64_release_1.4.0/src/learner.cc:1095: Starting in XGBoost 1.3.0, the default evaluation metric used with the objective 'binary:logistic' was changed from 'error' to 'logloss'. Explicitly set eval_metric if you'd like to restore the old behavior.\n",
      "Accuracy: 0.9947916666666666\n",
      "Confusion Matrix:\n",
      "[[ 73   1]\n",
      " [  0 118]]\n",
      "Classification Report:\n",
      "              precision    recall  f1-score   support\n",
      "\n",
      "           0       1.00      0.99      0.99        74\n",
      "           1       0.99      1.00      1.00       118\n",
      "\n",
      "    accuracy                           0.99       192\n",
      "   macro avg       1.00      0.99      0.99       192\n",
      "weighted avg       0.99      0.99      0.99       192\n",
      "\n"
     ]
    }
   ],
   "metadata": {}
  },
  {
   "cell_type": "code",
   "execution_count": 21,
   "source": [
    "# Gausian Process\r\n",
    "from sklearn.gaussian_process import GaussianProcessClassifier\r\n",
    "train_model(X_train, y_train, X_test, y_test, GaussianProcessClassifier())"
   ],
   "outputs": [
    {
     "output_type": "stream",
     "name": "stdout",
     "text": [
      "Accuracy: 0.8072916666666666\n",
      "Confusion Matrix:\n",
      "[[ 39  35]\n",
      " [  2 116]]\n",
      "Classification Report:\n",
      "              precision    recall  f1-score   support\n",
      "\n",
      "           0       0.95      0.53      0.68        74\n",
      "           1       0.77      0.98      0.86       118\n",
      "\n",
      "    accuracy                           0.81       192\n",
      "   macro avg       0.86      0.76      0.77       192\n",
      "weighted avg       0.84      0.81      0.79       192\n",
      "\n"
     ]
    }
   ],
   "metadata": {}
  },
  {
   "cell_type": "code",
   "execution_count": 22,
   "source": [
    "# SGDClassifier\r\n",
    "from sklearn.linear_model import SGDClassifier\r\n",
    "train_model(X_train, y_train, X_test, y_test, SGDClassifier())"
   ],
   "outputs": [
    {
     "output_type": "stream",
     "name": "stdout",
     "text": [
      "Accuracy: 0.6197916666666666\n",
      "Confusion Matrix:\n",
      "[[20 54]\n",
      " [19 99]]\n",
      "Classification Report:\n",
      "              precision    recall  f1-score   support\n",
      "\n",
      "           0       0.51      0.27      0.35        74\n",
      "           1       0.65      0.84      0.73       118\n",
      "\n",
      "    accuracy                           0.62       192\n",
      "   macro avg       0.58      0.55      0.54       192\n",
      "weighted avg       0.60      0.62      0.59       192\n",
      "\n"
     ]
    }
   ],
   "metadata": {}
  },
  {
   "cell_type": "code",
   "execution_count": 23,
   "source": [
    "# PassiveAggressiveClassifier\r\n",
    "from sklearn.linear_model import PassiveAggressiveClassifier\r\n",
    "train_model(X_train, y_train, X_test, y_test, PassiveAggressiveClassifier())"
   ],
   "outputs": [
    {
     "output_type": "stream",
     "name": "stdout",
     "text": [
      "Accuracy: 0.5833333333333334\n",
      "Confusion Matrix:\n",
      "[[17 57]\n",
      " [23 95]]\n",
      "Classification Report:\n",
      "              precision    recall  f1-score   support\n",
      "\n",
      "           0       0.42      0.23      0.30        74\n",
      "           1       0.62      0.81      0.70       118\n",
      "\n",
      "    accuracy                           0.58       192\n",
      "   macro avg       0.53      0.52      0.50       192\n",
      "weighted avg       0.55      0.58      0.55       192\n",
      "\n"
     ]
    }
   ],
   "metadata": {}
  },
  {
   "cell_type": "code",
   "execution_count": 24,
   "source": [
    "# MLPClassifier\r\n",
    "from sklearn.neural_network import MLPClassifier\r\n",
    "train_model(X_train, y_train, X_test, y_test, MLPClassifier())"
   ],
   "outputs": [
    {
     "output_type": "stream",
     "name": "stdout",
     "text": [
      "Accuracy: 0.8229166666666666\n",
      "Confusion Matrix:\n",
      "[[ 49  25]\n",
      " [  9 109]]\n",
      "Classification Report:\n",
      "              precision    recall  f1-score   support\n",
      "\n",
      "           0       0.84      0.66      0.74        74\n",
      "           1       0.81      0.92      0.87       118\n",
      "\n",
      "    accuracy                           0.82       192\n",
      "   macro avg       0.83      0.79      0.80       192\n",
      "weighted avg       0.83      0.82      0.82       192\n",
      "\n"
     ]
    }
   ],
   "metadata": {}
  },
  {
   "cell_type": "code",
   "execution_count": 25,
   "source": [
    "# Perceptron\r\n",
    "from sklearn.linear_model import Perceptron\r\n",
    "train_model(X_train, y_train, X_test, y_test, Perceptron())"
   ],
   "outputs": [
    {
     "output_type": "stream",
     "name": "stdout",
     "text": [
      "Accuracy: 0.65625\n",
      "Confusion Matrix:\n",
      "[[ 17  57]\n",
      " [  9 109]]\n",
      "Classification Report:\n",
      "              precision    recall  f1-score   support\n",
      "\n",
      "           0       0.65      0.23      0.34        74\n",
      "           1       0.66      0.92      0.77       118\n",
      "\n",
      "    accuracy                           0.66       192\n",
      "   macro avg       0.66      0.58      0.55       192\n",
      "weighted avg       0.66      0.66      0.60       192\n",
      "\n"
     ]
    }
   ],
   "metadata": {}
  },
  {
   "cell_type": "code",
   "execution_count": 26,
   "source": [
    "# Deep Learning Models\r\n",
    "from keras.models import Sequential\r\n",
    "from keras.layers import Dense\r\n",
    "from keras.layers import Dropout\r\n",
    "\r\n",
    "model = Sequential()\r\n",
    "model.add(Dense(units=64, activation='relu', input_dim=X_train.shape[1]))\r\n",
    "model.add(Dropout(0.5))\r\n",
    "model.add(Dense(units=64, activation='relu'))\r\n",
    "model.add(Dropout(0.5))\r\n",
    "model.add(Dense(units=1, activation='sigmoid'))\r\n",
    "model.compile(optimizer='adam', loss='binary_crossentropy', metrics=['accuracy'])\r\n",
    "model.fit(X_train, y_train, epochs=100, batch_size=10)\r\n",
    "y_pred = model.predict(X_test)\r\n",
    "y_pred = (y_pred > 0.5)\r\n",
    "# evaluate the model\r\n",
    "scores = model.evaluate(X_test, y_test)\r\n",
    "cm = confusion_matrix(y_test, y_pred)\r\n",
    "print(\"\\n%s: %.2f%%\" % (model.metrics_names[1], scores[1]*100))\r\n",
    "print('Accuracy of the model: ', accuracy_score(y_test, y_pred))\r\n",
    "print('Confusion Matrix: \\n', cm)\r\n",
    "print('Classification Report: \\n', classification_report(y_test, y_pred))"
   ],
   "outputs": [
    {
     "output_type": "stream",
     "name": "stdout",
     "text": [
      "Epoch 1/100\n",
      "77/77 [==============================] - 55s 5ms/step - loss: 0.7301 - accuracy: 0.5981\n",
      "Epoch 2/100\n",
      "77/77 [==============================] - 0s 6ms/step - loss: 0.6527 - accuracy: 0.6345\n",
      "Epoch 3/100\n",
      "77/77 [==============================] - 0s 5ms/step - loss: 0.6373 - accuracy: 0.6413\n",
      "Epoch 4/100\n",
      "77/77 [==============================] - 0s 6ms/step - loss: 0.6315 - accuracy: 0.6394\n",
      "Epoch 5/100\n",
      "77/77 [==============================] - 0s 5ms/step - loss: 0.6291 - accuracy: 0.6795\n",
      "Epoch 6/100\n",
      "77/77 [==============================] - 1s 7ms/step - loss: 0.6076 - accuracy: 0.6547\n",
      "Epoch 7/100\n",
      "77/77 [==============================] - 0s 6ms/step - loss: 0.5798 - accuracy: 0.6979\n",
      "Epoch 8/100\n",
      "77/77 [==============================] - 0s 5ms/step - loss: 0.6101 - accuracy: 0.6608\n",
      "Epoch 9/100\n",
      "77/77 [==============================] - 0s 4ms/step - loss: 0.6029 - accuracy: 0.6664\n",
      "Epoch 10/100\n",
      "77/77 [==============================] - 0s 5ms/step - loss: 0.5484 - accuracy: 0.7129\n",
      "Epoch 11/100\n",
      "77/77 [==============================] - 0s 5ms/step - loss: 0.5866 - accuracy: 0.6859\n",
      "Epoch 12/100\n",
      "77/77 [==============================] - 0s 6ms/step - loss: 0.5726 - accuracy: 0.7206\n",
      "Epoch 13/100\n",
      "77/77 [==============================] - 0s 4ms/step - loss: 0.5661 - accuracy: 0.7075\n",
      "Epoch 14/100\n",
      "77/77 [==============================] - 0s 4ms/step - loss: 0.5044 - accuracy: 0.7501\n",
      "Epoch 15/100\n",
      "77/77 [==============================] - 0s 5ms/step - loss: 0.5382 - accuracy: 0.7390\n",
      "Epoch 16/100\n",
      "77/77 [==============================] - 0s 5ms/step - loss: 0.5202 - accuracy: 0.7430\n",
      "Epoch 17/100\n",
      "77/77 [==============================] - 0s 4ms/step - loss: 0.5325 - accuracy: 0.7414\n",
      "Epoch 18/100\n",
      "77/77 [==============================] - 0s 4ms/step - loss: 0.5255 - accuracy: 0.7346\n",
      "Epoch 19/100\n",
      "77/77 [==============================] - 0s 4ms/step - loss: 0.5324 - accuracy: 0.7529\n",
      "Epoch 20/100\n",
      "77/77 [==============================] - 0s 4ms/step - loss: 0.5409 - accuracy: 0.7272\n",
      "Epoch 21/100\n",
      "77/77 [==============================] - 0s 4ms/step - loss: 0.5206 - accuracy: 0.7475\n",
      "Epoch 22/100\n",
      "77/77 [==============================] - 0s 4ms/step - loss: 0.5281 - accuracy: 0.7616\n",
      "Epoch 23/100\n",
      "77/77 [==============================] - 0s 4ms/step - loss: 0.5406 - accuracy: 0.7297\n",
      "Epoch 24/100\n",
      "77/77 [==============================] - 0s 4ms/step - loss: 0.5478 - accuracy: 0.7488\n",
      "Epoch 25/100\n",
      "77/77 [==============================] - 0s 4ms/step - loss: 0.4860 - accuracy: 0.7786\n",
      "Epoch 26/100\n",
      "77/77 [==============================] - 0s 4ms/step - loss: 0.5039 - accuracy: 0.7701\n",
      "Epoch 27/100\n",
      "77/77 [==============================] - 0s 4ms/step - loss: 0.4944 - accuracy: 0.7419\n",
      "Epoch 28/100\n",
      "77/77 [==============================] - 0s 4ms/step - loss: 0.4939 - accuracy: 0.7905\n",
      "Epoch 29/100\n",
      "77/77 [==============================] - 0s 4ms/step - loss: 0.4565 - accuracy: 0.8121\n",
      "Epoch 30/100\n",
      "77/77 [==============================] - 0s 4ms/step - loss: 0.4644 - accuracy: 0.7788\n",
      "Epoch 31/100\n",
      "77/77 [==============================] - 0s 4ms/step - loss: 0.4782 - accuracy: 0.7855\n",
      "Epoch 32/100\n",
      "77/77 [==============================] - 0s 4ms/step - loss: 0.4680 - accuracy: 0.7848\n",
      "Epoch 33/100\n",
      "77/77 [==============================] - 0s 4ms/step - loss: 0.4651 - accuracy: 0.7733\n",
      "Epoch 34/100\n",
      "77/77 [==============================] - 0s 4ms/step - loss: 0.4899 - accuracy: 0.7672\n",
      "Epoch 35/100\n",
      "77/77 [==============================] - 0s 4ms/step - loss: 0.4403 - accuracy: 0.8067\n",
      "Epoch 36/100\n",
      "77/77 [==============================] - 0s 3ms/step - loss: 0.4314 - accuracy: 0.8052\n",
      "Epoch 37/100\n",
      "77/77 [==============================] - 0s 5ms/step - loss: 0.4565 - accuracy: 0.7883\n",
      "Epoch 38/100\n",
      "77/77 [==============================] - 0s 4ms/step - loss: 0.4557 - accuracy: 0.7838\n",
      "Epoch 39/100\n",
      "77/77 [==============================] - 0s 4ms/step - loss: 0.4722 - accuracy: 0.7702\n",
      "Epoch 40/100\n",
      "77/77 [==============================] - 0s 5ms/step - loss: 0.4616 - accuracy: 0.8003\n",
      "Epoch 41/100\n",
      "77/77 [==============================] - 0s 5ms/step - loss: 0.4733 - accuracy: 0.7855\n",
      "Epoch 42/100\n",
      "77/77 [==============================] - 0s 5ms/step - loss: 0.4501 - accuracy: 0.7899\n",
      "Epoch 43/100\n",
      "77/77 [==============================] - 0s 5ms/step - loss: 0.4907 - accuracy: 0.7863\n",
      "Epoch 44/100\n",
      "77/77 [==============================] - 0s 6ms/step - loss: 0.4140 - accuracy: 0.8366\n",
      "Epoch 45/100\n",
      "77/77 [==============================] - 0s 5ms/step - loss: 0.4120 - accuracy: 0.8007\n",
      "Epoch 46/100\n",
      "77/77 [==============================] - 0s 4ms/step - loss: 0.4081 - accuracy: 0.8110\n",
      "Epoch 47/100\n",
      "77/77 [==============================] - 0s 4ms/step - loss: 0.4444 - accuracy: 0.7837\n",
      "Epoch 48/100\n",
      "77/77 [==============================] - 0s 4ms/step - loss: 0.4053 - accuracy: 0.8100\n",
      "Epoch 49/100\n",
      "77/77 [==============================] - 0s 3ms/step - loss: 0.4262 - accuracy: 0.8217\n",
      "Epoch 50/100\n",
      "77/77 [==============================] - 0s 4ms/step - loss: 0.4568 - accuracy: 0.8032\n",
      "Epoch 51/100\n",
      "77/77 [==============================] - 0s 6ms/step - loss: 0.4180 - accuracy: 0.8248\n",
      "Epoch 52/100\n",
      "77/77 [==============================] - 0s 4ms/step - loss: 0.3965 - accuracy: 0.8276\n",
      "Epoch 53/100\n",
      "77/77 [==============================] - 0s 4ms/step - loss: 0.4400 - accuracy: 0.8146\n",
      "Epoch 54/100\n",
      "77/77 [==============================] - 0s 4ms/step - loss: 0.4692 - accuracy: 0.7707\n",
      "Epoch 55/100\n",
      "77/77 [==============================] - 0s 4ms/step - loss: 0.4284 - accuracy: 0.8152\n",
      "Epoch 56/100\n",
      "77/77 [==============================] - 0s 4ms/step - loss: 0.4012 - accuracy: 0.8083\n",
      "Epoch 57/100\n",
      "77/77 [==============================] - 0s 4ms/step - loss: 0.4042 - accuracy: 0.8152\n",
      "Epoch 58/100\n",
      "77/77 [==============================] - 0s 5ms/step - loss: 0.4102 - accuracy: 0.8146\n",
      "Epoch 59/100\n",
      "77/77 [==============================] - 0s 4ms/step - loss: 0.4369 - accuracy: 0.8012\n",
      "Epoch 60/100\n",
      "77/77 [==============================] - 0s 4ms/step - loss: 0.3720 - accuracy: 0.8474\n",
      "Epoch 61/100\n",
      "77/77 [==============================] - 0s 4ms/step - loss: 0.4222 - accuracy: 0.8022\n",
      "Epoch 62/100\n",
      "77/77 [==============================] - 0s 4ms/step - loss: 0.4234 - accuracy: 0.8015\n",
      "Epoch 63/100\n",
      "77/77 [==============================] - 0s 4ms/step - loss: 0.4198 - accuracy: 0.8111\n",
      "Epoch 64/100\n",
      "77/77 [==============================] - 0s 4ms/step - loss: 0.3769 - accuracy: 0.8410\n",
      "Epoch 65/100\n",
      "77/77 [==============================] - 0s 4ms/step - loss: 0.3770 - accuracy: 0.8361\n",
      "Epoch 66/100\n",
      "77/77 [==============================] - 0s 4ms/step - loss: 0.3995 - accuracy: 0.8144\n",
      "Epoch 67/100\n",
      "77/77 [==============================] - 0s 4ms/step - loss: 0.4287 - accuracy: 0.8092\n",
      "Epoch 68/100\n",
      "77/77 [==============================] - 0s 4ms/step - loss: 0.3914 - accuracy: 0.8155\n",
      "Epoch 69/100\n",
      "77/77 [==============================] - 0s 4ms/step - loss: 0.3750 - accuracy: 0.8326\n",
      "Epoch 70/100\n",
      "77/77 [==============================] - 0s 4ms/step - loss: 0.4062 - accuracy: 0.8130\n",
      "Epoch 71/100\n",
      "77/77 [==============================] - 0s 4ms/step - loss: 0.4068 - accuracy: 0.8007\n",
      "Epoch 72/100\n",
      "77/77 [==============================] - 0s 4ms/step - loss: 0.4153 - accuracy: 0.8170\n",
      "Epoch 73/100\n",
      "77/77 [==============================] - 0s 4ms/step - loss: 0.3667 - accuracy: 0.8535\n",
      "Epoch 74/100\n",
      "77/77 [==============================] - 0s 4ms/step - loss: 0.4157 - accuracy: 0.8147\n",
      "Epoch 75/100\n",
      "77/77 [==============================] - 0s 4ms/step - loss: 0.4000 - accuracy: 0.8305\n",
      "Epoch 76/100\n",
      "77/77 [==============================] - 0s 4ms/step - loss: 0.3710 - accuracy: 0.8351\n",
      "Epoch 77/100\n",
      "77/77 [==============================] - 0s 4ms/step - loss: 0.4228 - accuracy: 0.8322\n",
      "Epoch 78/100\n",
      "77/77 [==============================] - 0s 5ms/step - loss: 0.4178 - accuracy: 0.8118\n",
      "Epoch 79/100\n",
      "77/77 [==============================] - 0s 4ms/step - loss: 0.3865 - accuracy: 0.8259\n",
      "Epoch 80/100\n",
      "77/77 [==============================] - 0s 4ms/step - loss: 0.3836 - accuracy: 0.8228\n",
      "Epoch 81/100\n",
      "77/77 [==============================] - 0s 4ms/step - loss: 0.3951 - accuracy: 0.8018\n",
      "Epoch 82/100\n",
      "77/77 [==============================] - 0s 4ms/step - loss: 0.3938 - accuracy: 0.8195\n",
      "Epoch 83/100\n",
      "77/77 [==============================] - 0s 5ms/step - loss: 0.3464 - accuracy: 0.8457\n",
      "Epoch 84/100\n",
      "77/77 [==============================] - 0s 4ms/step - loss: 0.3471 - accuracy: 0.8413\n",
      "Epoch 85/100\n",
      "77/77 [==============================] - 0s 5ms/step - loss: 0.3473 - accuracy: 0.8513\n",
      "Epoch 86/100\n",
      "77/77 [==============================] - 0s 3ms/step - loss: 0.3662 - accuracy: 0.8529\n",
      "Epoch 87/100\n",
      "77/77 [==============================] - 0s 4ms/step - loss: 0.3910 - accuracy: 0.8235\n",
      "Epoch 88/100\n",
      "77/77 [==============================] - 0s 3ms/step - loss: 0.3463 - accuracy: 0.8560\n",
      "Epoch 89/100\n",
      "77/77 [==============================] - 0s 4ms/step - loss: 0.3563 - accuracy: 0.8314\n",
      "Epoch 90/100\n",
      "77/77 [==============================] - 0s 5ms/step - loss: 0.3782 - accuracy: 0.8543\n",
      "Epoch 91/100\n",
      "77/77 [==============================] - 0s 4ms/step - loss: 0.3906 - accuracy: 0.8266\n",
      "Epoch 92/100\n",
      "77/77 [==============================] - 0s 4ms/step - loss: 0.3685 - accuracy: 0.8381\n",
      "Epoch 93/100\n",
      "77/77 [==============================] - 0s 4ms/step - loss: 0.4054 - accuracy: 0.8114\n",
      "Epoch 94/100\n",
      "77/77 [==============================] - 0s 4ms/step - loss: 0.3756 - accuracy: 0.8298\n",
      "Epoch 95/100\n",
      "77/77 [==============================] - 0s 4ms/step - loss: 0.3592 - accuracy: 0.8460\n",
      "Epoch 96/100\n",
      "77/77 [==============================] - 0s 4ms/step - loss: 0.3730 - accuracy: 0.8293\n",
      "Epoch 97/100\n",
      "77/77 [==============================] - 0s 4ms/step - loss: 0.3620 - accuracy: 0.8395\n",
      "Epoch 98/100\n",
      "77/77 [==============================] - 0s 4ms/step - loss: 0.4071 - accuracy: 0.7967\n",
      "Epoch 99/100\n",
      "77/77 [==============================] - 0s 4ms/step - loss: 0.3784 - accuracy: 0.8276\n",
      "Epoch 100/100\n",
      "77/77 [==============================] - 0s 4ms/step - loss: 0.3406 - accuracy: 0.8673\n",
      "6/6 [==============================] - 2s 4ms/step - loss: 0.4180 - accuracy: 0.8177\n",
      "\n",
      "accuracy: 81.77%\n",
      "Accuracy of the model:  0.8177083333333334\n",
      "Confusion Matrix: \n",
      " [[ 48  26]\n",
      " [  9 109]]\n",
      "Classification Report: \n",
      "               precision    recall  f1-score   support\n",
      "\n",
      "           0       0.84      0.65      0.73        74\n",
      "           1       0.81      0.92      0.86       118\n",
      "\n",
      "    accuracy                           0.82       192\n",
      "   macro avg       0.82      0.79      0.80       192\n",
      "weighted avg       0.82      0.82      0.81       192\n",
      "\n"
     ]
    }
   ],
   "metadata": {}
  },
  {
   "cell_type": "code",
   "execution_count": 31,
   "source": [
    "# Deep Learning Models\r\n",
    "from keras.models import Sequential\r\n",
    "from keras.layers import Dense\r\n",
    "from keras.layers import Dropout\r\n",
    "\r\n",
    "model = Sequential()\r\n",
    "# 5 hidden layers neural network\r\n",
    "model.add(Dense(units=32, activation='relu', input_dim=X_train.shape[1]))\r\n",
    "model.add(Dense(units=64, activation='relu'))\r\n",
    "model.add(Dense(units=128, activation='relu'))\r\n",
    "model.add(Dropout(0.5))\r\n",
    "model.add(Dense(units=256, activation='relu'))\r\n",
    "model.add(Dropout(0.5))\r\n",
    "model.add(Dense(units=1, activation='sigmoid'))\r\n",
    "model.compile(optimizer='adam', loss='binary_crossentropy', metrics=['accuracy'])\r\n",
    "model.fit(X_train, y_train, epochs=100, batch_size=10)\r\n",
    "y_pred = model.predict(X_test)\r\n",
    "y_pred = (y_pred > 0.5)\r\n",
    "# evaluate the model\r\n",
    "scores = model.evaluate(X_test, y_test)\r\n",
    "cm = confusion_matrix(y_test, y_pred)\r\n",
    "print(\"\\n%s: %.2f%%\" % (model.metrics_names[1], scores[1]*100))\r\n",
    "print('Accuracy of the model: ', accuracy_score(y_test, y_pred))\r\n",
    "print('Confusion Matrix: \\n', cm)\r\n",
    "print('Classification Report: \\n', classification_report(y_test, y_pred))"
   ],
   "outputs": [
    {
     "output_type": "stream",
     "name": "stdout",
     "text": [
      "Epoch 1/100\n",
      "77/77 [==============================] - 8s 6ms/step - loss: 0.6521 - accuracy: 0.6505\n",
      "Epoch 2/100\n",
      "77/77 [==============================] - 0s 6ms/step - loss: 0.6168 - accuracy: 0.6671\n",
      "Epoch 3/100\n",
      "77/77 [==============================] - 1s 7ms/step - loss: 0.6007 - accuracy: 0.6718\n",
      "Epoch 4/100\n",
      "77/77 [==============================] - 1s 7ms/step - loss: 0.5829 - accuracy: 0.7078\n",
      "Epoch 5/100\n",
      "77/77 [==============================] - 0s 6ms/step - loss: 0.5482 - accuracy: 0.7346\n",
      "Epoch 6/100\n",
      "77/77 [==============================] - 0s 6ms/step - loss: 0.4767 - accuracy: 0.7727\n",
      "Epoch 7/100\n",
      "77/77 [==============================] - 0s 5ms/step - loss: 0.4413 - accuracy: 0.7798\n",
      "Epoch 8/100\n",
      "77/77 [==============================] - 0s 6ms/step - loss: 0.3830 - accuracy: 0.8221\n",
      "Epoch 9/100\n",
      "77/77 [==============================] - 0s 5ms/step - loss: 0.4861 - accuracy: 0.7814\n",
      "Epoch 10/100\n",
      "77/77 [==============================] - 0s 6ms/step - loss: 0.3809 - accuracy: 0.8260\n",
      "Epoch 11/100\n",
      "77/77 [==============================] - 0s 5ms/step - loss: 0.3316 - accuracy: 0.8645\n",
      "Epoch 12/100\n",
      "77/77 [==============================] - 0s 5ms/step - loss: 0.3043 - accuracy: 0.8619\n",
      "Epoch 13/100\n",
      "77/77 [==============================] - 0s 6ms/step - loss: 0.2793 - accuracy: 0.8824\n",
      "Epoch 14/100\n",
      "77/77 [==============================] - 0s 6ms/step - loss: 0.2444 - accuracy: 0.9033\n",
      "Epoch 15/100\n",
      "77/77 [==============================] - 0s 5ms/step - loss: 0.2307 - accuracy: 0.9013\n",
      "Epoch 16/100\n",
      "77/77 [==============================] - 0s 6ms/step - loss: 0.2288 - accuracy: 0.9210\n",
      "Epoch 17/100\n",
      "77/77 [==============================] - 0s 5ms/step - loss: 0.2111 - accuracy: 0.9236\n",
      "Epoch 18/100\n",
      "77/77 [==============================] - 0s 5ms/step - loss: 0.1620 - accuracy: 0.9476\n",
      "Epoch 19/100\n",
      "77/77 [==============================] - 0s 5ms/step - loss: 0.1961 - accuracy: 0.9239\n",
      "Epoch 20/100\n",
      "77/77 [==============================] - 0s 5ms/step - loss: 0.2043 - accuracy: 0.9171\n",
      "Epoch 21/100\n",
      "77/77 [==============================] - 0s 5ms/step - loss: 0.1607 - accuracy: 0.9228\n",
      "Epoch 22/100\n",
      "77/77 [==============================] - 0s 5ms/step - loss: 0.1240 - accuracy: 0.9517\n",
      "Epoch 23/100\n",
      "77/77 [==============================] - 0s 5ms/step - loss: 0.1179 - accuracy: 0.9654\n",
      "Epoch 24/100\n",
      "77/77 [==============================] - 0s 6ms/step - loss: 0.1074 - accuracy: 0.9747\n",
      "Epoch 25/100\n",
      "77/77 [==============================] - 0s 5ms/step - loss: 0.0937 - accuracy: 0.9732\n",
      "Epoch 26/100\n",
      "77/77 [==============================] - 0s 5ms/step - loss: 0.0984 - accuracy: 0.9653\n",
      "Epoch 27/100\n",
      "77/77 [==============================] - 0s 5ms/step - loss: 0.1302 - accuracy: 0.9524\n",
      "Epoch 28/100\n",
      "77/77 [==============================] - 0s 5ms/step - loss: 0.1128 - accuracy: 0.9548\n",
      "Epoch 29/100\n",
      "77/77 [==============================] - 0s 6ms/step - loss: 0.1039 - accuracy: 0.9638\n",
      "Epoch 30/100\n",
      "77/77 [==============================] - 0s 5ms/step - loss: 0.0682 - accuracy: 0.9794\n",
      "Epoch 31/100\n",
      "77/77 [==============================] - 0s 5ms/step - loss: 0.0506 - accuracy: 0.9871\n",
      "Epoch 32/100\n",
      "77/77 [==============================] - 0s 5ms/step - loss: 0.0769 - accuracy: 0.9716\n",
      "Epoch 33/100\n",
      "77/77 [==============================] - 0s 5ms/step - loss: 0.0620 - accuracy: 0.9813\n",
      "Epoch 34/100\n",
      "77/77 [==============================] - 0s 5ms/step - loss: 0.0479 - accuracy: 0.9840\n",
      "Epoch 35/100\n",
      "77/77 [==============================] - 0s 5ms/step - loss: 0.0840 - accuracy: 0.9638\n",
      "Epoch 36/100\n",
      "77/77 [==============================] - 0s 5ms/step - loss: 0.0415 - accuracy: 0.9906\n",
      "Epoch 37/100\n",
      "77/77 [==============================] - 0s 5ms/step - loss: 0.0382 - accuracy: 0.9910\n",
      "Epoch 38/100\n",
      "77/77 [==============================] - 0s 5ms/step - loss: 0.0445 - accuracy: 0.9905\n",
      "Epoch 39/100\n",
      "77/77 [==============================] - 0s 5ms/step - loss: 0.0359 - accuracy: 0.9875\n",
      "Epoch 40/100\n",
      "77/77 [==============================] - 0s 5ms/step - loss: 0.0497 - accuracy: 0.9850\n",
      "Epoch 41/100\n",
      "77/77 [==============================] - 0s 5ms/step - loss: 0.0427 - accuracy: 0.9909\n",
      "Epoch 42/100\n",
      "77/77 [==============================] - 0s 5ms/step - loss: 0.0820 - accuracy: 0.9614\n",
      "Epoch 43/100\n",
      "77/77 [==============================] - 0s 6ms/step - loss: 0.0755 - accuracy: 0.9713\n",
      "Epoch 44/100\n",
      "77/77 [==============================] - 0s 5ms/step - loss: 0.0149 - accuracy: 0.9988\n",
      "Epoch 45/100\n",
      "77/77 [==============================] - 0s 6ms/step - loss: 0.0464 - accuracy: 0.9853\n",
      "Epoch 46/100\n",
      "77/77 [==============================] - 0s 6ms/step - loss: 0.0370 - accuracy: 0.9842\n",
      "Epoch 47/100\n",
      "77/77 [==============================] - 0s 5ms/step - loss: 0.0448 - accuracy: 0.9845\n",
      "Epoch 48/100\n",
      "77/77 [==============================] - 0s 6ms/step - loss: 0.0190 - accuracy: 0.9977\n",
      "Epoch 49/100\n",
      "77/77 [==============================] - 0s 5ms/step - loss: 0.0156 - accuracy: 0.9993\n",
      "Epoch 50/100\n",
      "77/77 [==============================] - 0s 5ms/step - loss: 0.0135 - accuracy: 0.9987\n",
      "Epoch 51/100\n",
      "77/77 [==============================] - 0s 5ms/step - loss: 0.0113 - accuracy: 0.9984\n",
      "Epoch 52/100\n",
      "77/77 [==============================] - 0s 6ms/step - loss: 0.0081 - accuracy: 0.9988\n",
      "Epoch 53/100\n",
      "77/77 [==============================] - 0s 5ms/step - loss: 0.0064 - accuracy: 0.9994\n",
      "Epoch 54/100\n",
      "77/77 [==============================] - 0s 6ms/step - loss: 0.0478 - accuracy: 0.9865\n",
      "Epoch 55/100\n",
      "77/77 [==============================] - 0s 5ms/step - loss: 0.0647 - accuracy: 0.9806\n",
      "Epoch 56/100\n",
      "77/77 [==============================] - 0s 5ms/step - loss: 0.0859 - accuracy: 0.9746\n",
      "Epoch 57/100\n",
      "77/77 [==============================] - 0s 5ms/step - loss: 0.0339 - accuracy: 0.9937\n",
      "Epoch 58/100\n",
      "77/77 [==============================] - 0s 5ms/step - loss: 0.0332 - accuracy: 0.9873\n",
      "Epoch 59/100\n",
      "77/77 [==============================] - 0s 5ms/step - loss: 0.0144 - accuracy: 0.9969\n",
      "Epoch 60/100\n",
      "77/77 [==============================] - 0s 5ms/step - loss: 0.0115 - accuracy: 1.0000\n",
      "Epoch 61/100\n",
      "77/77 [==============================] - 0s 4ms/step - loss: 0.0158 - accuracy: 0.9934\n",
      "Epoch 62/100\n",
      "77/77 [==============================] - 0s 5ms/step - loss: 0.0118 - accuracy: 0.9961\n",
      "Epoch 63/100\n",
      "77/77 [==============================] - 0s 5ms/step - loss: 0.0049 - accuracy: 0.9998\n",
      "Epoch 64/100\n",
      "77/77 [==============================] - 0s 5ms/step - loss: 0.0094 - accuracy: 0.9967\n",
      "Epoch 65/100\n",
      "77/77 [==============================] - 0s 5ms/step - loss: 0.0405 - accuracy: 0.9901\n",
      "Epoch 66/100\n",
      "77/77 [==============================] - 0s 6ms/step - loss: 0.0502 - accuracy: 0.9793\n",
      "Epoch 67/100\n",
      "77/77 [==============================] - 0s 5ms/step - loss: 0.0253 - accuracy: 0.9883\n",
      "Epoch 68/100\n",
      "77/77 [==============================] - 0s 6ms/step - loss: 0.0111 - accuracy: 0.9957\n",
      "Epoch 69/100\n",
      "77/77 [==============================] - 1s 7ms/step - loss: 0.0088 - accuracy: 0.9981\n",
      "Epoch 70/100\n",
      "77/77 [==============================] - 0s 6ms/step - loss: 0.0466 - accuracy: 0.9807\n",
      "Epoch 71/100\n",
      "77/77 [==============================] - 0s 5ms/step - loss: 0.0759 - accuracy: 0.9713\n",
      "Epoch 72/100\n",
      "77/77 [==============================] - 0s 5ms/step - loss: 0.0095 - accuracy: 0.9985\n",
      "Epoch 73/100\n",
      "77/77 [==============================] - 0s 4ms/step - loss: 0.0062 - accuracy: 0.9994\n",
      "Epoch 74/100\n",
      "77/77 [==============================] - 0s 6ms/step - loss: 0.0166 - accuracy: 0.9946\n",
      "Epoch 75/100\n",
      "77/77 [==============================] - 0s 5ms/step - loss: 0.0054 - accuracy: 0.9993\n",
      "Epoch 76/100\n",
      "77/77 [==============================] - 0s 5ms/step - loss: 0.0158 - accuracy: 0.9940\n",
      "Epoch 77/100\n",
      "77/77 [==============================] - 0s 5ms/step - loss: 0.0265 - accuracy: 0.9882\n",
      "Epoch 78/100\n",
      "77/77 [==============================] - 0s 5ms/step - loss: 0.0298 - accuracy: 0.9896\n",
      "Epoch 79/100\n",
      "77/77 [==============================] - 0s 5ms/step - loss: 0.0052 - accuracy: 0.9996\n",
      "Epoch 80/100\n",
      "77/77 [==============================] - 0s 5ms/step - loss: 0.0413 - accuracy: 0.9886\n",
      "Epoch 81/100\n",
      "77/77 [==============================] - 0s 5ms/step - loss: 0.0317 - accuracy: 0.9913\n",
      "Epoch 82/100\n",
      "77/77 [==============================] - 0s 5ms/step - loss: 0.0607 - accuracy: 0.9783\n",
      "Epoch 83/100\n",
      "77/77 [==============================] - 0s 4ms/step - loss: 0.0337 - accuracy: 0.9875\n",
      "Epoch 84/100\n",
      "77/77 [==============================] - 0s 5ms/step - loss: 0.0212 - accuracy: 0.9925\n",
      "Epoch 85/100\n",
      "77/77 [==============================] - 0s 5ms/step - loss: 0.0049 - accuracy: 0.9999\n",
      "Epoch 86/100\n",
      "77/77 [==============================] - 0s 5ms/step - loss: 0.0267 - accuracy: 0.9945\n",
      "Epoch 87/100\n",
      "77/77 [==============================] - 0s 6ms/step - loss: 0.0051 - accuracy: 0.9994\n",
      "Epoch 88/100\n",
      "77/77 [==============================] - 0s 5ms/step - loss: 0.0094 - accuracy: 0.9970\n",
      "Epoch 89/100\n",
      "77/77 [==============================] - 0s 5ms/step - loss: 0.0264 - accuracy: 0.9877\n",
      "Epoch 90/100\n",
      "77/77 [==============================] - 0s 5ms/step - loss: 0.0136 - accuracy: 0.9968\n",
      "Epoch 91/100\n",
      "77/77 [==============================] - 0s 5ms/step - loss: 0.0111 - accuracy: 0.9970\n",
      "Epoch 92/100\n",
      "77/77 [==============================] - 0s 5ms/step - loss: 0.0067 - accuracy: 0.9966\n",
      "Epoch 93/100\n",
      "77/77 [==============================] - 0s 4ms/step - loss: 0.0066 - accuracy: 0.9981\n",
      "Epoch 94/100\n",
      "77/77 [==============================] - 0s 4ms/step - loss: 0.0026 - accuracy: 1.0000\n",
      "Epoch 95/100\n",
      "77/77 [==============================] - 0s 5ms/step - loss: 7.6946e-04 - accuracy: 1.0000\n",
      "Epoch 96/100\n",
      "77/77 [==============================] - 0s 5ms/step - loss: 0.0048 - accuracy: 0.9986\n",
      "Epoch 97/100\n",
      "77/77 [==============================] - 0s 5ms/step - loss: 0.0454 - accuracy: 0.9891\n",
      "Epoch 98/100\n",
      "77/77 [==============================] - 0s 5ms/step - loss: 0.0263 - accuracy: 0.9939\n",
      "Epoch 99/100\n",
      "77/77 [==============================] - 0s 5ms/step - loss: 0.0106 - accuracy: 0.9987\n",
      "Epoch 100/100\n",
      "77/77 [==============================] - 0s 5ms/step - loss: 0.0078 - accuracy: 0.9962\n",
      "6/6 [==============================] - 1s 3ms/step - loss: 0.6912 - accuracy: 0.8854\n",
      "\n",
      "accuracy: 88.54%\n",
      "Accuracy of the model:  0.8854166666666666\n",
      "Confusion Matrix: \n",
      " [[ 56  18]\n",
      " [  4 114]]\n",
      "Classification Report: \n",
      "               precision    recall  f1-score   support\n",
      "\n",
      "           0       0.93      0.76      0.84        74\n",
      "           1       0.86      0.97      0.91       118\n",
      "\n",
      "    accuracy                           0.89       192\n",
      "   macro avg       0.90      0.86      0.87       192\n",
      "weighted avg       0.89      0.89      0.88       192\n",
      "\n"
     ]
    }
   ],
   "metadata": {}
  },
  {
   "cell_type": "code",
   "execution_count": null,
   "source": [],
   "outputs": [],
   "metadata": {}
  }
 ],
 "metadata": {
  "orig_nbformat": 4,
  "language_info": {
   "name": "python",
   "version": "3.6.13",
   "mimetype": "text/x-python",
   "codemirror_mode": {
    "name": "ipython",
    "version": 3
   },
   "pygments_lexer": "ipython3",
   "nbconvert_exporter": "python",
   "file_extension": ".py"
  },
  "kernelspec": {
   "name": "python3",
   "display_name": "Python 3.6.13 64-bit ('datascience36': conda)"
  },
  "interpreter": {
   "hash": "6c409da0194ad84f97c433e5c3af843a8c7e6237cbabcde4828c447ef5743c1a"
  }
 },
 "nbformat": 4,
 "nbformat_minor": 2
}